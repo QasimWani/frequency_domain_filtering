{
 "cells": [
  {
   "cell_type": "code",
   "execution_count": 1,
   "metadata": {},
   "outputs": [],
   "source": [
    "import numpy as np\n",
    "import pandas as pd\n",
    "import matplotlib.pyplot as plt\n",
    "from PIL import Image, ImageFilter\n",
    "import cv2\n",
    "import time"
   ]
  },
  {
   "cell_type": "markdown",
   "metadata": {},
   "source": [
    "# Question 1"
   ]
  },
  {
   "cell_type": "markdown",
   "metadata": {},
   "source": [
    "<p>Degradation function: </p>\n",
    "$$ H(u, v) = \\frac{T}{\\pi (ua + vb)} \\sin[ \\pi (ua + vb) ]e^{-j \\pi (ua + vb)} $$"
   ]
  },
  {
   "cell_type": "code",
   "execution_count": 2,
   "metadata": {},
   "outputs": [],
   "source": [
    "def rgb2gray(rgb):\n",
    "    \"\"\"Convert an image to grayscale using standard ratios for r,g,b\"\"\"\n",
    "    return np.dot(rgb[...,:3], [0.299, 0.587, 0.144])"
   ]
  },
  {
   "cell_type": "code",
   "execution_count": 3,
   "metadata": {},
   "outputs": [],
   "source": [
    "img = rgb2gray(np.array(cv2.imread(\"DIP.png\")))"
   ]
  },
  {
   "cell_type": "code",
   "execution_count": 4,
   "metadata": {},
   "outputs": [],
   "source": [
    "# img = np.pad(img, pad_width=1)"
   ]
  },
  {
   "cell_type": "code",
   "execution_count": 5,
   "metadata": {},
   "outputs": [],
   "source": [
    "F = np.fft.fftshift(np.fft.fft2(img)) #shift zero-frequency component to the mean "
   ]
  },
  {
   "cell_type": "code",
   "execution_count": 6,
   "metadata": {},
   "outputs": [],
   "source": [
    "a, b, T = 0.05, 0.02, 1"
   ]
  },
  {
   "cell_type": "code",
   "execution_count": 7,
   "metadata": {},
   "outputs": [],
   "source": [
    "def gauss_noise(data, v, u=0):\n",
    "    \"\"\"Adds in Gaussian noise to an image (data) based on value of mu and sigma\"\"\"\n",
    "    x = np.abs(data)*255/np.abs(data).max()\n",
    "    noisy_data = x + np.random.normal(u, v**0.5, data.shape)\n",
    "    return noisy_data"
   ]
  },
  {
   "cell_type": "code",
   "execution_count": 8,
   "metadata": {},
   "outputs": [],
   "source": [
    "def degradation(a=a, b=b, T=1, fft_img=F):\n",
    "    \"\"\"\n",
    "    Returns the output of a sample degradation function of motion blur in the frequency domain\n",
    "    @Param:\n",
    "    1. a - linear motion rate in the horizontal direction (spatial domain)\n",
    "    2. b - linear motion rate in the vertical direction   (spatial domain)\n",
    "    3. u - mean\n",
    "    4. T - Motion blur parameter (time/spatial integration)\n",
    "    5. fft_img - FFT centered image\n",
    "    \"\"\"\n",
    "    height, width = fft_img.shape\n",
    "    output = lambda u, v: T if (u*a + v*b == 0) else T * np.exp(-1j*np.pi \\\n",
    "                                * (u*a + v*b)) * np.sin(np.pi * (u*a + v*b))/(np.pi * (u*a + v*b))\n",
    "\n",
    "    H = np.zeros(shape=(height, width), dtype=np.complex128)\n",
    "    \n",
    "    for u in range(height):\n",
    "        for v in range(width):\n",
    "            H[u, v] = output(u, v)\n",
    "    return H"
   ]
  },
  {
   "cell_type": "code",
   "execution_count": 9,
   "metadata": {},
   "outputs": [],
   "source": [
    "H = degradation()"
   ]
  },
  {
   "cell_type": "code",
   "execution_count": 10,
   "metadata": {},
   "outputs": [],
   "source": [
    "output_centered_fft = F*H\n",
    "G = np.fft.ifft2(np.fft.ifftshift(output_centered_fft))"
   ]
  },
  {
   "cell_type": "code",
   "execution_count": 11,
   "metadata": {},
   "outputs": [],
   "source": [
    "noisy_1 = gauss_noise(np.abs(G), v=0.0065) #noise level set to 'lightly corrupted'\n",
    "noisy_2 = gauss_noise(np.abs(G), v=65) #noise level set to 'midly corrupted'\n",
    "noisy_3 = gauss_noise(np.abs(G), v=650) #noise level set to 'heavily corrupted'"
   ]
  },
  {
   "cell_type": "code",
   "execution_count": null,
   "metadata": {},
   "outputs": [],
   "source": [
    "fig, (ax0, ax1, ax2, ax3) = plt.subplots(4, figsize=(20,20))\n",
    "ax0.imshow(np.abs(G), \"gray\"), ax0.set_title(\"Blurred Image (no noise)\")\n",
    "ax1.imshow(np.abs(noisy_1), \"gray\"), ax1.set_title(\"Lightly Corrupted\")\n",
    "ax2.imshow(np.abs(noisy_2), \"gray\"), ax2.set_title(\"Mildly Corrupted\")\n",
    "ax3.imshow(np.abs(noisy_3), \"gray\"), ax3.set_title(\"Heavily Corrupted\")\n",
    "plt.show()"
   ]
  },
  {
   "cell_type": "markdown",
   "metadata": {},
   "source": [
    "# Question 2"
   ]
  },
  {
   "cell_type": "code",
   "execution_count": null,
   "metadata": {},
   "outputs": [],
   "source": [
    "def pseudo_inverse_filter(degraded, delta=1e-3, H=H):\n",
    "    \"\"\"\n",
    "    Computes the inverse and outputs the image in the spatial domain based on a degredation function.\n",
    "    @Param:\n",
    "    1. degraded - Degraded image (spatial domain)\n",
    "    2. H - degredation function\n",
    "    @Return:\n",
    "    f_inverse - output of inverse filtering in the spatial domain\n",
    "    \"\"\"\n",
    "    F_degraded = np.fft.fftshift(np.fft.fft2(degraded))\n",
    "    F_inverse = np.where(np.abs(H) < delta, 0, F_degraded / H)\n",
    "    f_inverse = np.fft.ifft2(np.fft.ifftshift(F_inverse))\n",
    "    return np.abs(f_inverse)"
   ]
  },
  {
   "cell_type": "code",
   "execution_count": null,
   "metadata": {},
   "outputs": [],
   "source": [
    "inverse_noisy_1 = pseudo_inverse_filter(noisy_1) #compute inverse of 'lightly corrupted' image\n",
    "inverse_noisy_2 = pseudo_inverse_filter(noisy_2) #compute inverse of midly corrupted' image\n",
    "inverse_noisy_3 = pseudo_inverse_filter(noisy_3) #compute inverse of 'heavily corrupted' image"
   ]
  },
  {
   "cell_type": "code",
   "execution_count": null,
   "metadata": {},
   "outputs": [],
   "source": [
    "fig, (ax1, ax2, ax3) = plt.subplots(3, figsize=(10,10))\n",
    "ax1.imshow(inverse_noisy_1, \"gray\"), ax1.set_title(\"Inverse of Lightly Corrupted Image\")\n",
    "ax2.imshow(inverse_noisy_2, \"gray\"), ax2.set_title(\"Inverse of Mildly Corrupted Image\")\n",
    "ax3.imshow(inverse_noisy_3, \"gray\"), ax3.set_title(\"Inverse of Heavily Corrupted Image\")\n",
    "plt.show()"
   ]
  }
 ],
 "metadata": {
  "kernelspec": {
   "display_name": "Python 3",
   "language": "python",
   "name": "python3"
  },
  "language_info": {
   "codemirror_mode": {
    "name": "ipython",
    "version": 3
   },
   "file_extension": ".py",
   "mimetype": "text/x-python",
   "name": "python",
   "nbconvert_exporter": "python",
   "pygments_lexer": "ipython3",
   "version": "3.7.6"
  }
 },
 "nbformat": 4,
 "nbformat_minor": 4
}
